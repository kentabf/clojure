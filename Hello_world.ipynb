{
 "cells": [
  {
   "cell_type": "code",
   "execution_count": 1,
   "id": "5efd35d8-0294-453b-be1b-0ecff7b95237",
   "metadata": {},
   "outputs": [
    {
     "data": {},
     "execution_count": 1,
     "metadata": {},
     "output_type": "execute_result"
    }
   ],
   "source": [
    ";; Tutorial from https://learnxinyminutes.com/clojure/"
   ]
  },
  {
   "cell_type": "code",
   "execution_count": 2,
   "id": "56b9b5bb-4407-4cb0-8247-123c2517b2b8",
   "metadata": {},
   "outputs": [
    {
     "name": "stdout",
     "output_type": "stream",
     "text": [
      "Hello world\n"
     ]
    },
    {
     "data": {
      "text/plain": [
       "nil"
      ]
     },
     "execution_count": 2,
     "metadata": {},
     "output_type": "execute_result"
    }
   ],
   "source": [
    "(println \"Hello world\")"
   ]
  },
  {
   "cell_type": "code",
   "execution_count": 3,
   "id": "1bcc4fa1-057c-4413-841c-a95ef7ec1df8",
   "metadata": {},
   "outputs": [
    {
     "data": {
      "text/plain": [
       "#'user/x"
      ]
     },
     "execution_count": 3,
     "metadata": {},
     "output_type": "execute_result"
    }
   ],
   "source": [
    "(def x 2)"
   ]
  },
  {
   "cell_type": "code",
   "execution_count": 4,
   "id": "91983606-6c04-471f-b3bb-3ac2e1b3ed86",
   "metadata": {},
   "outputs": [
    {
     "data": {
      "text/plain": [
       "#'user/map_k"
      ]
     },
     "execution_count": 4,
     "metadata": {},
     "output_type": "execute_result"
    }
   ],
   "source": [
    "(def map_k {\"joe\" :name})"
   ]
  },
  {
   "cell_type": "code",
   "execution_count": 5,
   "id": "5c2a90f7-a4da-42fc-9fe7-a5598025c90d",
   "metadata": {},
   "outputs": [
    {
     "data": {
      "text/html": [
       ":name"
      ]
     },
     "execution_count": 5,
     "metadata": {},
     "output_type": "execute_result"
    }
   ],
   "source": [
    "(map_k \"joe\")"
   ]
  },
  {
   "cell_type": "code",
   "execution_count": 6,
   "id": "56df783b-cdd2-4c1f-bb2d-fb086118029c",
   "metadata": {},
   "outputs": [
    {
     "data": {
      "text/plain": [
       "nil"
      ]
     },
     "execution_count": 6,
     "metadata": {},
     "output_type": "execute_result"
    }
   ],
   "source": [
    "(require '[tablecloth.api :as tc])"
   ]
  },
  {
   "cell_type": "code",
   "execution_count": 7,
   "id": "f7d1f228-a7ab-4d3a-83c4-a159b649d7ff",
   "metadata": {},
   "outputs": [
    {
     "data": {
      "text/html": [
       "<div class=\"kind-dataset\"><p>_unnamed [1 2]:</p><table><thead><tr><th style=\"text-align:right;\">:a</th><th style=\"text-align:right;\">:b</th></tr></thead><tbody><tr><td style=\"text-align:right;\">1</td><td style=\"text-align:right;\">2</td></tr></tbody></table></div>"
      ]
     },
     "execution_count": 7,
     "metadata": {},
     "output_type": "execute_result"
    }
   ],
   "source": [
    "(tc/dataset {:a 1 :b 2})"
   ]
  },
  {
   "cell_type": "code",
   "execution_count": 8,
   "id": "6a44c341-8a40-4337-8fbc-525d69476678",
   "metadata": {},
   "outputs": [
    {
     "data": {
      "text/html": [
       "class clojure.lang.Keyword"
      ]
     },
     "execution_count": 8,
     "metadata": {},
     "output_type": "execute_result"
    }
   ],
   "source": [
    "(type :a)"
   ]
  },
  {
   "cell_type": "code",
   "execution_count": 9,
   "id": "fab2e9f7-48bc-44f8-bfa2-1b732487374e",
   "metadata": {},
   "outputs": [
    {
     "data": {
      "text/plain": [
       "nil"
      ]
     },
     "execution_count": 9,
     "metadata": {},
     "output_type": "execute_result"
    }
   ],
   "source": [
    "(ns learnclojure)"
   ]
  },
  {
   "cell_type": "code",
   "execution_count": 10,
   "id": "7427ebe3-447d-4d4d-b0d6-23f0d333dad3",
   "metadata": {},
   "outputs": [
    {
     "data": {
      "text/html": [
       "Hello World"
      ]
     },
     "execution_count": 10,
     "metadata": {},
     "output_type": "execute_result"
    }
   ],
   "source": [
    "(str \"Hello\" \" \" \"World\")"
   ]
  },
  {
   "cell_type": "code",
   "execution_count": 11,
   "id": "7aa01b12-1d5b-46da-bbd9-18950928f3ed",
   "metadata": {},
   "outputs": [
    {
     "data": {
      "text/html": [
       "64"
      ]
     },
     "execution_count": 11,
     "metadata": {},
     "output_type": "execute_result"
    }
   ],
   "source": [
    "(* 4 4 4)"
   ]
  },
  {
   "cell_type": "code",
   "execution_count": 12,
   "id": "656ccbef-2055-4887-bb46-c46ca01785d2",
   "metadata": {},
   "outputs": [
    {
     "data": {
      "text/html": [
       "false"
      ]
     },
     "execution_count": 12,
     "metadata": {},
     "output_type": "execute_result"
    }
   ],
   "source": [
    "(= 6 1)"
   ]
  },
  {
   "cell_type": "code",
   "execution_count": 13,
   "id": "482c2f59-acfa-4732-bb8f-c7a1924d5c84",
   "metadata": {},
   "outputs": [
    {
     "data": {
      "text/html": [
       "true"
      ]
     },
     "execution_count": 13,
     "metadata": {},
     "output_type": "execute_result"
    }
   ],
   "source": [
    "(not false)"
   ]
  },
  {
   "cell_type": "code",
   "execution_count": 14,
   "id": "5a3eb45d-2846-4223-af4e-652ea510a4d6",
   "metadata": {},
   "outputs": [
    {
     "data": {
      "text/html": [
       "class java.lang.Boolean"
      ]
     },
     "execution_count": 14,
     "metadata": {},
     "output_type": "execute_result"
    }
   ],
   "source": [
    "(class false)\n"
   ]
  },
  {
   "cell_type": "code",
   "execution_count": 15,
   "id": "989947a6-73c0-4c45-9445-e5cd66637a2b",
   "metadata": {},
   "outputs": [
    {
     "data": {
      "text/html": [
       "<div class=\"kind-seq\"><div style=\"border:1px solid grey;padding:2px;\">+</div><div style=\"border:1px solid grey;padding:2px;\">1</div><div style=\"border:1px solid grey;padding:2px;\">2</div></div>"
      ]
     },
     "execution_count": 15,
     "metadata": {},
     "output_type": "execute_result"
    }
   ],
   "source": [
    "'(+ 1 2)"
   ]
  },
  {
   "cell_type": "code",
   "execution_count": 16,
   "id": "dd15f2b6-162e-4f89-a7de-f81daff80848",
   "metadata": {},
   "outputs": [
    {
     "data": {
      "text/html": [
       "3"
      ]
     },
     "execution_count": 16,
     "metadata": {},
     "output_type": "execute_result"
    }
   ],
   "source": [
    "(eval '(+ 1 2))"
   ]
  },
  {
   "cell_type": "code",
   "execution_count": 17,
   "id": "d8c0ebc3-cde9-409f-82fa-af7e1c2eb621",
   "metadata": {},
   "outputs": [
    {
     "data": {
      "text/html": [
       "class clojure.lang.PersistentVector"
      ]
     },
     "execution_count": 17,
     "metadata": {},
     "output_type": "execute_result"
    }
   ],
   "source": [
    "(class [1 2 3])"
   ]
  },
  {
   "cell_type": "code",
   "execution_count": 18,
   "id": "dd1ae782-4e98-44d1-9f83-28fbc72173cf",
   "metadata": {},
   "outputs": [
    {
     "data": {
      "text/html": [
       "class clojure.lang.PersistentList"
      ]
     },
     "execution_count": 18,
     "metadata": {},
     "output_type": "execute_result"
    }
   ],
   "source": [
    "(class '(1 2 3))"
   ]
  },
  {
   "cell_type": "code",
   "execution_count": 19,
   "id": "d0d4901f-b6f2-4fbf-bdef-545a5705229c",
   "metadata": {},
   "outputs": [
    {
     "data": {
      "text/html": [
       "<div class=\"kind-seq\"><div style=\"border:1px solid grey;padding:2px;\">1</div><div style=\"border:1px solid grey;padding:2px;\">2</div><div style=\"border:1px solid grey;padding:2px;\">3</div></div>"
      ]
     },
     "execution_count": 19,
     "metadata": {},
     "output_type": "execute_result"
    }
   ],
   "source": [
    "'(1 2 3)"
   ]
  },
  {
   "cell_type": "code",
   "execution_count": 20,
   "id": "7415e7c9-0974-45cf-a6a4-6fb94aaf65f0",
   "metadata": {},
   "outputs": [
    {
     "data": {
      "text/html": [
       "<div class=\"kind-seq\"><div style=\"border:1px solid grey;padding:2px;\">class java.lang.Long</div><div style=\"border:1px solid grey;padding:2px;\">class java.lang.Long</div></div>"
      ]
     },
     "execution_count": 20,
     "metadata": {},
     "output_type": "execute_result"
    }
   ],
   "source": [
    ";; TODO: why the difference?\n",
    ";; [(class 1) (class \"a\")]\n",
    "'((class 1) (class \"a\"))\n",
    "(list class 1 class 2)\n",
    "(list (class 1) (class 2))"
   ]
  },
  {
   "cell_type": "code",
   "execution_count": 21,
   "id": "e2858c5c-f75c-47ea-81b4-c4637ed95911",
   "metadata": {},
   "outputs": [
    {
     "data": {
      "text/html": [
       "<div class=\"kind-seq\"><div style=\"border:1px solid grey;padding:2px;\">1</div><div style=\"border:1px solid grey;padding:2px;\">2</div><div style=\"border:1px solid grey;padding:2px;\">3</div></div>"
      ]
     },
     "execution_count": 21,
     "metadata": {},
     "output_type": "execute_result"
    }
   ],
   "source": [
    "'(1 2 3)"
   ]
  },
  {
   "cell_type": "code",
   "execution_count": 22,
   "id": "06bd926d-74e1-429b-b10f-761a6a1a717e",
   "metadata": {},
   "outputs": [
    {
     "data": {
      "text/html": [
       "true"
      ]
     },
     "execution_count": 22,
     "metadata": {},
     "output_type": "execute_result"
    }
   ],
   "source": [
    "(list? '(1 2 3))"
   ]
  },
  {
   "cell_type": "code",
   "execution_count": 23,
   "id": "c6a2c447-4efb-4331-8566-bb7c4c14003d",
   "metadata": {},
   "outputs": [
    {
     "data": {},
     "execution_count": 23,
     "metadata": {},
     "output_type": "execute_result"
    }
   ],
   "source": [
    ";; TODO: macros?"
   ]
  },
  {
   "cell_type": "code",
   "execution_count": 24,
   "id": "b310614d-c4b4-4c72-b25a-d9bc720c4f18",
   "metadata": {},
   "outputs": [
    {
     "data": {
      "text/html": [
       "false"
      ]
     },
     "execution_count": 24,
     "metadata": {},
     "output_type": "execute_result"
    }
   ],
   "source": [
    ";;  TODO: why are below different?\n",
    "(seq? '(1 2 3))\n",
    "(seq? [1 2 3])"
   ]
  },
  {
   "cell_type": "code",
   "execution_count": 25,
   "id": "01c9613e-2f26-4f56-aacb-5d7eed7571d2",
   "metadata": {},
   "outputs": [
    {
     "data": {
      "text/html": [
       "<div class=\"kind-seq\"><div style=\"border:1px solid grey;padding:2px;\">0</div><div style=\"border:1px solid grey;padding:2px;\">1</div></div>"
      ]
     },
     "execution_count": 25,
     "metadata": {},
     "output_type": "execute_result"
    }
   ],
   "source": [
    "(take 4 (range 2))"
   ]
  },
  {
   "cell_type": "code",
   "execution_count": 26,
   "id": "dd43e96a-eb74-452d-a232-0f5b64926ca7",
   "metadata": {},
   "outputs": [
    {
     "data": {
      "text/html": [
       "<div class=\"kind-seq\"><div style=\"border:1px solid grey;padding:2px;\"><div class=\"kind-seq\"><div style=\"border:1px solid grey;padding:2px;\">1</div><div style=\"border:1px solid grey;padding:2px;\">10</div></div></div><div style=\"border:1px solid grey;padding:2px;\"><div class=\"kind-seq\"><div style=\"border:1px solid grey;padding:2px;\">2</div><div style=\"border:1px solid grey;padding:2px;\">20</div></div></div><div style=\"border:1px solid grey;padding:2px;\"><div class=\"kind-seq\"><div style=\"border:1px solid grey;padding:2px;\">3</div><div style=\"border:1px solid grey;padding:2px;\">30</div></div></div></div>"
      ]
     },
     "execution_count": 26,
     "metadata": {},
     "output_type": "execute_result"
    }
   ],
   "source": [
    "(cons '(1 10) '((2 20) (3 30)))"
   ]
  },
  {
   "cell_type": "code",
   "execution_count": 27,
   "id": "78523d3f-fd57-4179-8df8-c08d1eb56ce5",
   "metadata": {},
   "outputs": [
    {
     "data": {
      "text/html": [
       "<div class=\"kind-vector\"><div style=\"border:1px solid grey;padding:2px;\">1</div><div style=\"border:1px solid grey;padding:2px;\">2</div><div style=\"border:1px solid grey;padding:2px;\">3</div><div style=\"border:1px solid grey;padding:2px;\">6</div></div>"
      ]
     },
     "execution_count": 27,
     "metadata": {},
     "output_type": "execute_result"
    }
   ],
   "source": [
    "(conj [1 2 3] 6)"
   ]
  },
  {
   "cell_type": "code",
   "execution_count": 28,
   "id": "e5bbf9fc-8e72-46aa-972a-ac1818754bfd",
   "metadata": {},
   "outputs": [
    {
     "data": {
      "text/html": [
       "<div class=\"kind-seq\"><div style=\"border:1px solid grey;padding:2px;\">1</div><div style=\"border:1px solid grey;padding:2px;\">2</div><div style=\"border:1px solid grey;padding:2px;\">3</div><div style=\"border:1px solid grey;padding:2px;\">4</div><div style=\"border:1px solid grey;padding:2px;\">5</div><div style=\"border:1px solid grey;padding:2px;\">6</div><div style=\"border:1px solid grey;padding:2px;\">7</div></div>"
      ]
     },
     "execution_count": 28,
     "metadata": {},
     "output_type": "execute_result"
    }
   ],
   "source": [
    "(concat '(1 2 3 4) '(5 6 7))"
   ]
  },
  {
   "cell_type": "code",
   "execution_count": 29,
   "id": "fa125081-1b6e-4334-a349-4c85f851a3c9",
   "metadata": {},
   "outputs": [
    {
     "data": {
      "text/html": [
       "<div class=\"kind-seq\"><div style=\"border:1px solid grey;padding:2px;\">2</div><div style=\"border:1px solid grey;padding:2px;\">3</div><div style=\"border:1px solid grey;padding:2px;\">4</div></div>"
      ]
     },
     "execution_count": 29,
     "metadata": {},
     "output_type": "execute_result"
    }
   ],
   "source": [
    "(map inc [1 2 3])"
   ]
  },
  {
   "cell_type": "code",
   "execution_count": 30,
   "id": "c45753db-aa0a-4afd-9d4d-994bffdc61b5",
   "metadata": {},
   "outputs": [
    {
     "data": {
      "text/html": [
       "<div class=\"kind-seq\"><div style=\"border:1px solid grey;padding:2px;\">2</div></div>"
      ]
     },
     "execution_count": 30,
     "metadata": {},
     "output_type": "execute_result"
    }
   ],
   "source": [
    "(filter even? [1 2 3])"
   ]
  },
  {
   "cell_type": "code",
   "execution_count": 31,
   "id": "64a497b9-977c-4188-b655-8f36e0643feb",
   "metadata": {},
   "outputs": [
    {
     "data": {
      "text/html": [
       "12"
      ]
     },
     "execution_count": 31,
     "metadata": {},
     "output_type": "execute_result"
    }
   ],
   "source": [
    "(reduce + 2 [1 2 3 4])"
   ]
  },
  {
   "cell_type": "code",
   "execution_count": 32,
   "id": "a8c43b05-6abb-49d1-abe8-e7002c5af416",
   "metadata": {},
   "outputs": [
    {
     "data": {
      "text/html": [
       "<div class=\"kind-vector\"><div style=\"border:1px solid grey;padding:2px;\">3</div><div style=\"border:1px solid grey;padding:2px;\">2</div><div style=\"border:1px solid grey;padding:2px;\">1</div></div>"
      ]
     },
     "execution_count": 32,
     "metadata": {},
     "output_type": "execute_result"
    }
   ],
   "source": [
    "(reduce conj [] '(3 2 1))"
   ]
  },
  {
   "cell_type": "code",
   "execution_count": 33,
   "id": "75d5bb98-38a2-4f25-ad90-1c13eff10013",
   "metadata": {},
   "outputs": [
    {
     "data": {
      "text/html": [
       "learnclojure$eval26886$fn__26887@311f8a5c"
      ]
     },
     "execution_count": 33,
     "metadata": {},
     "output_type": "execute_result"
    }
   ],
   "source": [
    "(fn [] \"Hello world\")"
   ]
  },
  {
   "cell_type": "code",
   "execution_count": 34,
   "id": "f708ede4-05b9-4678-b415-990292aad56c",
   "metadata": {},
   "outputs": [
    {
     "data": {
      "text/html": [
       "Hello world"
      ]
     },
     "execution_count": 34,
     "metadata": {},
     "output_type": "execute_result"
    }
   ],
   "source": [
    "((fn [] \"Hello world\"))"
   ]
  },
  {
   "cell_type": "code",
   "execution_count": 35,
   "id": "d9b5a854-a52b-4135-8c51-1427fcf9562d",
   "metadata": {},
   "outputs": [
    {
     "data": {
      "text/plain": [
       "#'learnclojure/x"
      ]
     },
     "execution_count": 35,
     "metadata": {},
     "output_type": "execute_result"
    }
   ],
   "source": [
    "(def x 1)"
   ]
  },
  {
   "cell_type": "code",
   "execution_count": 36,
   "id": "9b70ebad-1fb2-4aa0-bcd3-cdd5f89ce75d",
   "metadata": {},
   "outputs": [
    {
     "data": {
      "text/plain": [
       "#'learnclojure/hello-world"
      ]
     },
     "execution_count": 36,
     "metadata": {},
     "output_type": "execute_result"
    }
   ],
   "source": [
    "(defn hello-world [] \"Hello world\")"
   ]
  },
  {
   "cell_type": "code",
   "execution_count": 37,
   "id": "1c2568ec-0d31-4436-a53c-ebeb10409105",
   "metadata": {},
   "outputs": [
    {
     "data": {
      "text/plain": [
       "#'learnclojure/my-add"
      ]
     },
     "execution_count": 37,
     "metadata": {},
     "output_type": "execute_result"
    }
   ],
   "source": [
    "(def my-add (fn [a b] (+ a b)))"
   ]
  },
  {
   "cell_type": "code",
   "execution_count": 38,
   "id": "5fa8bc6f-8b56-451b-8ed5-84154d4eaadd",
   "metadata": {},
   "outputs": [
    {
     "data": {
      "text/html": [
       "11"
      ]
     },
     "execution_count": 38,
     "metadata": {},
     "output_type": "execute_result"
    }
   ],
   "source": [
    "(my-add 5 6)"
   ]
  },
  {
   "cell_type": "code",
   "execution_count": 39,
   "id": "fab0a361-90f6-49aa-8ea7-35d3f6cf49ee",
   "metadata": {},
   "outputs": [
    {
     "data": {
      "text/html": [
       "Hello Obama"
      ]
     },
     "execution_count": 39,
     "metadata": {},
     "output_type": "execute_result"
    }
   ],
   "source": [
    "(defn hello [name]\n",
    "    (str \"Hello \" name))\n",
    "(hello \"Doe\")"
   ]
  },
  {
   "cell_type": "code",
   "execution_count": 40,
   "id": "a7df94b3-299d-4bd3-8e4a-021f3a4ae3c9",
   "metadata": {},
   "outputs": [
    {
     "data": {
      "text/html": [
       "Hello Obama"
      ]
     },
     "execution_count": 40,
     "metadata": {},
     "output_type": "execute_result"
    }
   ],
   "source": [
    "(def hello2 #(str \"Hello \" %2))\n",
    "(hello2 \"abc\" \"Doe\")"
   ]
  },
  {
   "cell_type": "code",
   "execution_count": 41,
   "id": "effcfa2a-1fd6-456e-b185-5240f3e85e2e",
   "metadata": {},
   "outputs": [
    {
     "data": {
      "text/html": [
       "Hello barack Obama"
      ]
     },
     "execution_count": 41,
     "metadata": {},
     "output_type": "execute_result"
    }
   ],
   "source": [
    "(defn hello3\n",
    "    ([] \"Hello world\")\n",
    "    ([name] (str \"Hello \" name))\n",
    "    ([first-name last-name] (str \"Hello \" first-name \" \" last-name)))\n",
    "(hello3 \"John\" \"Doe\")"
   ]
  },
  {
   "cell_type": "code",
   "execution_count": 42,
   "id": "ff983931-5334-4ab9-a7b8-c43d1e3156e0",
   "metadata": {},
   "outputs": [
    {
     "data": {
      "text/html": [
       "HelloBarack, you passed 2 extra args"
      ]
     },
     "execution_count": 42,
     "metadata": {},
     "output_type": "execute_result"
    }
   ],
   "source": [
    "(defn hello-count [name & args]\n",
    "    (str \"Hello\" name \", you passed \" (count args) \" extra args\"))\n",
    "(hello-count \"John\" [1 2 3] '(4 5 6))"
   ]
  },
  {
   "cell_type": "code",
   "execution_count": 43,
   "id": "4348a77f-c3c9-41bb-8c41-23b4a29a0e39",
   "metadata": {},
   "outputs": [
    {
     "data": {
      "text/plain": [
       "nil"
      ]
     },
     "execution_count": 43,
     "metadata": {},
     "output_type": "execute_result"
    }
   ],
   "source": [
    "(def x {:a 1 :b 2 :c 3})\n",
    "(x \"b\")"
   ]
  },
  {
   "cell_type": "code",
   "execution_count": 44,
   "id": "627c0d00-caa7-406e-a06f-44946a1852f1",
   "metadata": {},
   "outputs": [
    {
     "data": {
      "text/html": [
       "<div class=\"kind-map\"><div style=\"border:1px solid grey;padding:2px;\">:a</div><div style=\"border:1px solid grey;padding:2px;\">1</div><div style=\"border:1px solid grey;padding:2px;\">:b</div><div style=\"border:1px solid grey;padding:2px;\">2</div><div style=\"border:1px solid grey;padding:2px;\">:c</div><div style=\"border:1px solid grey;padding:2px;\">3</div></div>"
      ]
     },
     "execution_count": 44,
     "metadata": {},
     "output_type": "execute_result"
    }
   ],
   "source": [
    "(def arr-map {:a 1, :b 2, :c 3})\n",
    "arr-map"
   ]
  },
  {
   "cell_type": "code",
   "execution_count": 45,
   "id": "c09a72cb-a85f-4efb-ba34-7b8f0be1d4d7",
   "metadata": {},
   "outputs": [
    {
     "data": {
      "text/html": [
       "<div class=\"kind-map\"><div style=\"border:1px solid grey;padding:2px;\">:c</div><div style=\"border:1px solid grey;padding:2px;\">3</div><div style=\"border:1px solid grey;padding:2px;\">:b</div><div style=\"border:1px solid grey;padding:2px;\">2</div><div style=\"border:1px solid grey;padding:2px;\">:a</div><div style=\"border:1px solid grey;padding:2px;\">1</div></div>"
      ]
     },
     "execution_count": 45,
     "metadata": {},
     "output_type": "execute_result"
    }
   ],
   "source": [
    "(def h-map (hash-map :a 1 :b 2 :c 3))\n",
    "h-map"
   ]
  },
  {
   "cell_type": "code",
   "execution_count": 46,
   "id": "e7a02ae4-11a5-4223-bd16-7088c37577de",
   "metadata": {},
   "outputs": [
    {
     "data": {
      "text/html": [
       "class clojure.lang.Keyword"
      ]
     },
     "execution_count": 46,
     "metadata": {},
     "output_type": "execute_result"
    }
   ],
   "source": [
    "(class :a)"
   ]
  },
  {
   "cell_type": "code",
   "execution_count": 47,
   "id": "fe5d71c6-9cf0-488e-b431-8fd753a7ad6c",
   "metadata": {},
   "outputs": [
    {
     "data": {
      "text/html": [
       "1"
      ]
     },
     "execution_count": 47,
     "metadata": {},
     "output_type": "execute_result"
    }
   ],
   "source": [
    "(:a h-map)"
   ]
  },
  {
   "cell_type": "code",
   "execution_count": 48,
   "id": "c0ce7556-0136-4728-aaac-4d50001bc2d3",
   "metadata": {},
   "outputs": [
    {
     "data": {},
     "execution_count": 48,
     "metadata": {},
     "output_type": "execute_result"
    }
   ],
   "source": [
    ";; error:\n",
    ";; (\"a\" h-map)"
   ]
  },
  {
   "cell_type": "code",
   "execution_count": 49,
   "id": "6374c47d-cc39-4257-96cb-d155506783ed",
   "metadata": {},
   "outputs": [
    {
     "data": {
      "text/html": [
       "4"
      ]
     },
     "execution_count": 49,
     "metadata": {},
     "output_type": "execute_result"
    }
   ],
   "source": [
    "(def new-h-map (assoc h-map :d 4))\n",
    "(:d new-h-map)"
   ]
  },
  {
   "cell_type": "code",
   "execution_count": 50,
   "id": "c087f801-f5f2-4d10-838b-9c3d05cb4573",
   "metadata": {},
   "outputs": [
    {
     "data": {
      "text/html": [
       "<div class=\"kind-map\"><div style=\"border:1px solid grey;padding:2px;\">:c</div><div style=\"border:1px solid grey;padding:2px;\">3</div></div>"
      ]
     },
     "execution_count": 50,
     "metadata": {},
     "output_type": "execute_result"
    }
   ],
   "source": [
    "(dissoc h-map :a :b)"
   ]
  },
  {
   "cell_type": "code",
   "execution_count": 51,
   "id": "43dedfd2-1037-4963-a08d-dacfcfd03bc1",
   "metadata": {},
   "outputs": [
    {
     "data": {
      "text/html": [
       "<div class=\"kind-set\"><div style=\"border:1px solid grey;padding:2px;\">4</div><div style=\"border:1px solid grey;padding:2px;\">clojure.core$range@d02614</div></div>"
      ]
     },
     "execution_count": 51,
     "metadata": {},
     "output_type": "execute_result"
    }
   ],
   "source": [
    ";; TODO: what does this mean?\n",
    "(def my-set #{range})\n",
    "(conj my-set 4)"
   ]
  },
  {
   "cell_type": "code",
   "execution_count": 52,
   "id": "e5809bec-241c-4a23-af61-010f9e08a0de",
   "metadata": {},
   "outputs": [
    {
     "data": {
      "text/html": [
       "<div class=\"kind-set\"><div style=\"border:1px solid grey;padding:2px;\">1</div><div style=\"border:1px solid grey;padding:2px;\">4</div><div style=\"border:1px solid grey;padding:2px;\">3</div><div style=\"border:1px solid grey;padding:2px;\">2</div></div>"
      ]
     },
     "execution_count": 52,
     "metadata": {},
     "output_type": "execute_result"
    }
   ],
   "source": [
    "(def my-set #{1 2 3})\n",
    "(conj my-set 4)"
   ]
  },
  {
   "cell_type": "code",
   "execution_count": 53,
   "id": "823401e3-287f-46a7-bed0-9446896f2bf2",
   "metadata": {},
   "outputs": [
    {
     "data": {
      "text/plain": [
       "nil"
      ]
     },
     "execution_count": 53,
     "metadata": {},
     "output_type": "execute_result"
    }
   ],
   "source": [
    "(my-set 4)"
   ]
  },
  {
   "cell_type": "code",
   "execution_count": 54,
   "id": "89737cfc-54ef-4731-88e4-0bf454dd5940",
   "metadata": {},
   "outputs": [
    {
     "data": {
      "text/html": [
       "<div class=\"kind-set\"><div style=\"border:1px solid grey;padding:2px;\">1</div><div style=\"border:1px solid grey;padding:2px;\">3</div></div>"
      ]
     },
     "execution_count": 54,
     "metadata": {},
     "output_type": "execute_result"
    }
   ],
   "source": [
    "(disj my-set 2)"
   ]
  },
  {
   "cell_type": "code",
   "execution_count": 55,
   "id": "9e2ee0e5-8bd2-451e-a071-236bd448966a",
   "metadata": {},
   "outputs": [
    {
     "data": {
      "text/html": [
       "b"
      ]
     },
     "execution_count": 55,
     "metadata": {},
     "output_type": "execute_result"
    }
   ],
   "source": [
    "(if false \"a\" \"b\")"
   ]
  },
  {
   "cell_type": "code",
   "execution_count": 56,
   "id": "cbe0a9e8-4d0c-467c-82c0-85111d61c3de",
   "metadata": {},
   "outputs": [
    {
     "data": {
      "text/plain": [
       "nil"
      ]
     },
     "execution_count": 56,
     "metadata": {},
     "output_type": "execute_result"
    }
   ],
   "source": [
    "(if false \"a\")"
   ]
  },
  {
   "cell_type": "code",
   "execution_count": 57,
   "id": "775b023b-3817-4c91-82fc-5ec887dea1bb",
   "metadata": {},
   "outputs": [
    {
     "data": {
      "text/html": [
       "false"
      ]
     },
     "execution_count": 57,
     "metadata": {},
     "output_type": "execute_result"
    }
   ],
   "source": [
    "(let [a 1 b 2]\n",
    "    (> a b))"
   ]
  },
  {
   "cell_type": "code",
   "execution_count": 66,
   "id": "a97b3416-cc69-4e0c-a779-841337a375b6",
   "metadata": {},
   "outputs": [
    {
     "name": "stdout",
     "output_type": "stream",
     "text": [
      "this line runsnext line runslast line runs; then return last statement"
     ]
    },
    {
     "data": {
      "text/html": [
       "2"
      ]
     },
     "execution_count": 66,
     "metadata": {},
     "output_type": "execute_result"
    }
   ],
   "source": [
    "(do\n",
    "    (print \"this line runs\")\n",
    "    (print \"next line runs\")\n",
    "    (print \"last line runs; then return last statement\")\n",
    "    (:b h-map))\n"
   ]
  },
  {
   "cell_type": "code",
   "execution_count": 69,
   "id": "1e7565fd-d102-4033-8997-81921e82dd2f",
   "metadata": {},
   "outputs": [
    {
     "name": "stdout",
     "output_type": "stream",
     "text": [
      "Saying hello to Obama"
     ]
    },
    {
     "data": {
      "text/html": [
       "Hello Obama"
      ]
     },
     "execution_count": 69,
     "metadata": {},
     "output_type": "execute_result"
    }
   ],
   "source": [
    "(defn print-and-say-hello [name]\n",
    "    (print \"Saying hello to\" name)\n",
    "    (str \"Hello \" name))\n",
    "(print-and-say-hello \"Doe\")"
   ]
  },
  {
   "cell_type": "code",
   "execution_count": 70,
   "id": "1c9e926b-3406-4e8b-a6ba-d210266fd20d",
   "metadata": {},
   "outputs": [
    {
     "name": "stdout",
     "output_type": "stream",
     "text": [
      "Saying hello to Barack"
     ]
    },
    {
     "data": {
      "text/html": [
       "Hello Barack"
      ]
     },
     "execution_count": 70,
     "metadata": {},
     "output_type": "execute_result"
    }
   ],
   "source": [
    "(let [name \"John\"]\n",
    "    (print \"Saying hello to\" name)\n",
    "    (str \"Hello \" name))"
   ]
  },
  {
   "cell_type": "code",
   "execution_count": 72,
   "id": "3083c17c-59a1-4e20-8b7a-da67910c7e62",
   "metadata": {},
   "outputs": [
    {
     "data": {
      "text/html": [
       "<div class=\"kind-map\"><div style=\"border:1px solid grey;padding:2px;\">:a</div><div style=\"border:1px solid grey;padding:2px;\">1</div><div style=\"border:1px solid grey;padding:2px;\">3</div><div style=\"border:1px solid grey;padding:2px;\">:c</div></div>"
      ]
     },
     "execution_count": 72,
     "metadata": {},
     "output_type": "execute_result"
    }
   ],
   "source": [
    "(-> \n",
    "    {:a 1, :b 2,}\n",
    "    (assoc :c 3)\n",
    "    (dissoc :b))"
   ]
  },
  {
   "cell_type": "code",
   "execution_count": 85,
   "id": "021d0a06-d16a-40d2-9212-1f721b99cd8c",
   "metadata": {},
   "outputs": [
    {
     "data": {
      "text/html": [
       "<div class=\"kind-seq\"><div style=\"border:1px solid grey;padding:2px;\">1</div><div style=\"border:1px solid grey;padding:2px;\">3</div><div style=\"border:1px solid grey;padding:2px;\">5</div><div style=\"border:1px solid grey;padding:2px;\">7</div><div style=\"border:1px solid grey;padding:2px;\">9</div><div style=\"border:1px solid grey;padding:2px;\">11</div><div style=\"border:1px solid grey;padding:2px;\">13</div><div style=\"border:1px solid grey;padding:2px;\">15</div><div style=\"border:1px solid grey;padding:2px;\">17</div><div style=\"border:1px solid grey;padding:2px;\">19</div></div>"
      ]
     },
     "execution_count": 85,
     "metadata": {},
     "output_type": "execute_result"
    }
   ],
   "source": [
    ";; TODO: why does below take so long?\n",
    "(->>\n",
    "    (range)\n",
    "    (map inc)\n",
    "    (take 100)\n",
    "    (filter odd?)\n",
    "    (into [])\n",
    "    (take 10))"
   ]
  },
  {
   "cell_type": "code",
   "execution_count": 89,
   "id": "16ce4734-76a2-456b-9c29-6bd2e7c62121",
   "metadata": {},
   "outputs": [
    {
     "data": {
      "text/html": [
       "<div class=\"kind-vector\"><div style=\"border:1px solid grey;padding:2px;\">0</div><div style=\"border:1px solid grey;padding:2px;\">1</div><div style=\"border:1px solid grey;padding:2px;\">2</div><div style=\"border:1px solid grey;padding:2px;\">3</div><div style=\"border:1px solid grey;padding:2px;\">4</div></div>"
      ]
     },
     "execution_count": 89,
     "metadata": {},
     "output_type": "execute_result"
    }
   ],
   "source": [
    ";; TODO: why does below take so so long?\n",
    "(as-> [1 2 3] input\n",
    "    (map inc input)\n",
    "    (nth input 0)\n",
    "    (conj [0 1] input 3 4))"
   ]
  },
  {
   "cell_type": "code",
   "execution_count": 90,
   "id": "77e9119a-f15a-469c-adaa-10fa8c931dfd",
   "metadata": {},
   "outputs": [
    {
     "data": {
      "text/plain": [
       "nil"
      ]
     },
     "execution_count": 90,
     "metadata": {},
     "output_type": "execute_result"
    }
   ],
   "source": [
    "(use 'clojure.set)"
   ]
  },
  {
   "cell_type": "code",
   "execution_count": 91,
   "id": "dd357e35-127b-4bc0-bfca-b67e447475af",
   "metadata": {},
   "outputs": [
    {
     "data": {
      "text/html": [
       "<div class=\"kind-set\"><div style=\"border:1px solid grey;padding:2px;\">3</div><div style=\"border:1px solid grey;padding:2px;\">2</div></div>"
      ]
     },
     "execution_count": 91,
     "metadata": {},
     "output_type": "execute_result"
    }
   ],
   "source": [
    "(intersection #{1 2 3} #{2 3 4})"
   ]
  },
  {
   "cell_type": "code",
   "execution_count": 92,
   "id": "8313482a-cda6-43ea-a5f3-8dd805e76c6c",
   "metadata": {},
   "outputs": [
    {
     "data": {
      "text/html": [
       "<div class=\"kind-set\"><div style=\"border:1px solid grey;padding:2px;\">1</div></div>"
      ]
     },
     "execution_count": 92,
     "metadata": {},
     "output_type": "execute_result"
    }
   ],
   "source": [
    "(difference #{1 2 3} #{2 3 4})"
   ]
  },
  {
   "cell_type": "code",
   "execution_count": 93,
   "id": "430c66e9-dd3f-4b23-886a-990e34f88591",
   "metadata": {},
   "outputs": [
    {
     "data": {
      "text/plain": [
       "nil"
      ]
     },
     "execution_count": 93,
     "metadata": {},
     "output_type": "execute_result"
    }
   ],
   "source": [
    "(use '[clojure.set :only [intersection]])"
   ]
  },
  {
   "cell_type": "code",
   "execution_count": 94,
   "id": "d3b89b40-2756-4e65-bf7e-83a0fcb40215",
   "metadata": {},
   "outputs": [
    {
     "data": {
      "text/plain": [
       "nil"
      ]
     },
     "execution_count": 94,
     "metadata": {},
     "output_type": "execute_result"
    }
   ],
   "source": [
    "(require 'clojure.string)"
   ]
  },
  {
   "cell_type": "code",
   "execution_count": 95,
   "id": "4f0f16b7-7ce9-433f-a5d8-f861c930fc66",
   "metadata": {},
   "outputs": [
    {
     "data": {
      "text/html": [
       "true"
      ]
     },
     "execution_count": 95,
     "metadata": {},
     "output_type": "execute_result"
    }
   ],
   "source": [
    "(clojure.string/blank? \"\")"
   ]
  },
  {
   "cell_type": "code",
   "execution_count": 96,
   "id": "c7145a54-4151-400a-a2e5-e4b6b08e1d7c",
   "metadata": {},
   "outputs": [
    {
     "data": {
      "text/html": [
       "THIs Is A tEst."
      ]
     },
     "execution_count": 96,
     "metadata": {},
     "output_type": "execute_result"
    }
   ],
   "source": [
    "(require '[clojure.string :as str])\n",
    "(str/replace \"This is a test.\" #\"[a-p]\" str/upper-case)"
   ]
  },
  {
   "cell_type": "code",
   "execution_count": 97,
   "id": "523637f1-ddb9-4c4b-882a-9e2dd1732b20",
   "metadata": {},
   "outputs": [
    {
     "data": {
      "text/plain": [
       "nil"
      ]
     },
     "execution_count": 97,
     "metadata": {},
     "output_type": "execute_result"
    }
   ],
   "source": [
    ";; TODO: what does below do that's different?\n",
    "(ns test\n",
    "    (:require\n",
    "     [clojure.string :as str]\n",
    "     [clojure.set :as set]))"
   ]
  },
  {
   "cell_type": "code",
   "execution_count": 98,
   "id": "4ddb7f5b-8399-4a43-88c9-c106cf1fed70",
   "metadata": {},
   "outputs": [
    {
     "data": {
      "text/html": [
       "<div class=\"kind-map\"><div style=\"border:1px solid grey;padding:2px;\">:require</div><div style=\"border:1px solid grey;padding:2px;\">1</div></div>"
      ]
     },
     "execution_count": 98,
     "metadata": {},
     "output_type": "execute_result"
    }
   ],
   "source": [
    "(def other-h-map (hash-map :require 1))\n",
    "other-h-map"
   ]
  },
  {
   "cell_type": "code",
   "execution_count": 99,
   "id": "08da6cd4-dbf7-4b2d-b98a-a7b89ce81711",
   "metadata": {},
   "outputs": [
    {
     "data": {
      "text/plain": [
       "nil"
      ]
     },
     "execution_count": 99,
     "metadata": {},
     "output_type": "execute_result"
    }
   ],
   "source": [
    "(import java.util.Date)\n",
    "\n",
    "(ns test\n",
    "    (:import java.util.Date\n",
    "             java.util.Calendar))"
   ]
  },
  {
   "cell_type": "code",
   "execution_count": 102,
   "id": "60a2120a-d5d8-4e94-980d-a0f6fc1e2167",
   "metadata": {},
   "outputs": [
    {
     "name": "stderr",
     "output_type": "stream",
     "text": [
      "Syntax error (IllegalArgumentException) compiling new at (REPL:2:1).\n",
      "No matching ctor found for class java.util.Calendar\n"
     ]
    },
    {
     "ename": "class clojure.lang.Compiler$CompilerException",
     "evalue": "",
     "execution_count": 102,
     "output_type": "error",
     "status": "error",
     "traceback": [
      "kind.clj:   560 clojupyter.misc.kind$kind_eval/invokeStatic",
      "kind.clj:   541 clojupyter.misc.kind$kind_eval/invoke"
     ]
    }
   ],
   "source": [
    ";; TODO: what's wrong with below?\n",
    "(Calendar.)"
   ]
  },
  {
   "cell_type": "code",
   "execution_count": 104,
   "id": "a0d836a8-7b8c-4e06-9d0f-dbb9b1da10a4",
   "metadata": {},
   "outputs": [
    {
     "data": {
      "text/html": [
       "1741540975191"
      ]
     },
     "execution_count": 104,
     "metadata": {},
     "output_type": "execute_result"
    }
   ],
   "source": [
    "(. (Date.) getTime)\n",
    "(.getTime (Date.))"
   ]
  },
  {
   "cell_type": "code",
   "execution_count": 107,
   "id": "4c6230bf-5240-40b4-8c8a-0d4e229767da",
   "metadata": {},
   "outputs": [
    {
     "data": {
      "text/html": [
       "1741541022404"
      ]
     },
     "execution_count": 107,
     "metadata": {},
     "output_type": "execute_result"
    }
   ],
   "source": [
    "(System/currentTimeMillis)"
   ]
  },
  {
   "cell_type": "code",
   "execution_count": 113,
   "id": "8caebab3-f8b6-4df4-8368-599e4080e6af",
   "metadata": {},
   "outputs": [
    {
     "data": {
      "text/html": [
       "<div class=\"kind-map\"><div style=\"border:1px solid grey;padding:2px;\">:a</div><div style=\"border:1px solid grey;padding:2px;\">1</div><div style=\"border:1px solid grey;padding:2px;\">:b</div><div style=\"border:1px solid grey;padding:2px;\">2</div></div>"
      ]
     },
     "execution_count": 113,
     "metadata": {},
     "output_type": "execute_result"
    }
   ],
   "source": [
    "(def my-atom (atom {}))\n",
    "(swap! my-atom assoc :a 1)\n",
    "(swap! my-atom assoc :b 2)\n",
    "my-atom"
   ]
  },
  {
   "cell_type": "code",
   "execution_count": 116,
   "id": "1fc28967-461d-46aa-b645-ed05def51a5d",
   "metadata": {},
   "outputs": [
    {
     "data": {
      "text/html": [
       "<div class=\"kind-map\"><div style=\"border:1px solid grey;padding:2px;\">:a</div><div style=\"border:1px solid grey;padding:2px;\">1</div><div style=\"border:1px solid grey;padding:2px;\">:b</div><div style=\"border:1px solid grey;padding:2px;\">2</div></div>"
      ]
     },
     "execution_count": 116,
     "metadata": {},
     "output_type": "execute_result"
    }
   ],
   "source": [
    ";; TODO: what's the difference between the two?\n",
    "my-atom\n",
    "@my-atom"
   ]
  },
  {
   "cell_type": "code",
   "execution_count": 117,
   "id": "05a2a2cf-8269-4551-a695-1e300eb7a857",
   "metadata": {},
   "outputs": [
    {
     "data": {
      "text/html": [
       "0"
      ]
     },
     "execution_count": 117,
     "metadata": {},
     "output_type": "execute_result"
    }
   ],
   "source": [
    "(def counter (atom 0))\n",
    "(defn inc-counter []\n",
    "    (swap! counter inc))\n",
    "@counter"
   ]
  },
  {
   "cell_type": "code",
   "execution_count": 122,
   "id": "16adb724-6be0-4994-a116-ac52a44f4ca7",
   "metadata": {},
   "outputs": [
    {
     "data": {
      "text/html": [
       "6"
      ]
     },
     "execution_count": 122,
     "metadata": {},
     "output_type": "execute_result"
    }
   ],
   "source": [
    "(inc-counter)\n",
    "(inc-counter)"
   ]
  },
  {
   "cell_type": "code",
   "execution_count": 123,
   "id": "971ca08e-4387-4eeb-a7e3-88fa74868986",
   "metadata": {},
   "outputs": [
    {
     "data": {
      "text/html": [
       "6"
      ]
     },
     "execution_count": 123,
     "metadata": {},
     "output_type": "execute_result"
    }
   ],
   "source": [
    "@counter"
   ]
  },
  {
   "cell_type": "code",
   "execution_count": null,
   "id": "1020d19b-7c3f-4f22-90a1-478c7e454b17",
   "metadata": {},
   "outputs": [],
   "source": []
  }
 ],
 "metadata": {
  "kernelspec": {
   "display_name": "Clojure (noj-2-beta8)",
   "language": "clojure",
   "name": "noj-2-beta8"
  },
  "language_info": {
   "file_extension": ".clj",
   "mimetype": "text/x-clojure",
   "name": "clojure",
   "version": "1.11.1"
  }
 },
 "nbformat": 4,
 "nbformat_minor": 5
}
